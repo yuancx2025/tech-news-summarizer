{
 "cells": [
  {
   "cell_type": "code",
   "execution_count": 1,
   "id": "f7a1e23b",
   "metadata": {
    "vscode": {
     "languageId": "sql"
    }
   },
   "outputs": [
    {
     "ename": "SyntaxError",
     "evalue": "invalid syntax (1847098002.py, line 2)",
     "output_type": "error",
     "traceback": [
      "  \u001b[36mCell\u001b[39m\u001b[36m \u001b[39m\u001b[32mIn[1]\u001b[39m\u001b[32m, line 2\u001b[39m\n\u001b[31m    \u001b[39m\u001b[31mSELECT COUNT(*) FROM articles;\u001b[39m\n           ^\n\u001b[31mSyntaxError\u001b[39m\u001b[31m:\u001b[39m invalid syntax\n"
     ]
    }
   ],
   "source": [
    "# volume\n",
    "SELECT COUNT(*) FROM articles;\n",
    "# coverage by source (derive from url host)\n",
    "SELECT substr(url, 1, instr(substr(url,9),'/')+8) AS host, COUNT(*) \n",
    "FROM articles GROUP BY host ORDER BY COUNT(*) DESC;\n",
    "# text length\n",
    "SELECT AVG(length(text)), MIN(length(text)), MAX(length(text)) FROM articles;\n",
    "# missing metadata\n",
    "SELECT COUNT(*) FROM articles WHERE title IS NULL OR title='';\n",
    "SELECT COUNT(*) FROM articles WHERE published IS NULL;\n",
    "# dup by content hash\n",
    "SELECT content_hash, COUNT(*) FROM articles GROUP BY content_hash HAVING COUNT(*)>1;\n"
   ]
  }
 ],
 "metadata": {
  "kernelspec": {
   "display_name": ".venv",
   "language": "python",
   "name": "python3"
  },
  "language_info": {
   "codemirror_mode": {
    "name": "ipython",
    "version": 3
   },
   "file_extension": ".py",
   "mimetype": "text/x-python",
   "name": "python",
   "nbconvert_exporter": "python",
   "pygments_lexer": "ipython3",
   "version": "3.11.4"
  }
 },
 "nbformat": 4,
 "nbformat_minor": 5
}
